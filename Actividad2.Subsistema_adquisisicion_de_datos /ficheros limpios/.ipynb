{
 "cells": [
  {
   "attachments": {},
   "cell_type": "markdown",
   "metadata": {},
   "source": [
    "El siguiente código  es un script en Python para leer un archivo CSV, limpiarlo y guardarlo en un nuevo archivo.\n",
    "Aquí está la explicación de cada parte del código:\n"
   ]
  },
  {
   "attachments": {},
   "cell_type": "markdown",
   "metadata": {},
   "source": [
    "## UTILIZANDO 'PANDAS':\n",
    "\n",
    "1º. Importamos la biblioteca pandas.Pandas es una biblioteca de manipulación y análisis de datos en Python.\n",
    "\n",
    "                 --> DE LA SIGUIENTE FORMA :\n",
    "\n",
    "                     import pandas as pd"
   ]
  },
  {
   "attachments": {},
   "cell_type": "markdown",
   "metadata": {},
   "source": [
    "2º. Leemos el archivo CSV utilizando la función read_csv de pandas.\n",
    "\n",
    "En este caso, el archivo tiene un delimitador de columna ';', por lo que especificamos sep=';'.        \n",
    "\n",
    "Además, proporcionamos una codificación específica usando el argumento encoding.\n",
    "\n",
    "\n",
    "\n",
    "        --> EXTRACTO DEL CÓDIGO AL QUE SE HACE REFERENCIA:\n",
    "\n",
    "            df = pd.read_csv('FicheroRuido2023.csv', sep=';' , encoding='ISO-8859-1')\n",
    "\n",
    "Además, proporcionamos una codificación específica usando el argumento encoding. \n",
    "\n",
    "La codificación es el conjunto de reglas que se utilizan para convertir los caracteres (letras, números y símbolos) en una secuencia de bytes y viceversa.\n",
    "\n",
    "En este ejemplo, usamos la codificación 'ISO-8859-1', también conocida como 'latin1', que es una codificación común para caracteres latinos, como los que se encuentran en idiomas como el español."
   ]
  },
  {
   "attachments": {},
   "cell_type": "markdown",
   "metadata": {},
   "source": [
    "3º. Iteramos a través de las columnas del DataFrame df.\n",
    "\n",
    "Si el tipo de datos de la columna es 'object', es decir una columna de texto, realizamos una sustitución decaracteres.\n",
    "\n",
    "Reemplazamos todas las comas (,) por puntos (.):\n",
    "       \n",
    "              for col in df.columns:\n",
    "                  if df[col].dtype == 'object':\n",
    "                      df[col] = df[col].str.replace(',', '.')\n"
   ]
  },
  {
   "attachments": {},
   "cell_type": "markdown",
   "metadata": {},
   "source": [
    "4º. Si necesitas convertir alguna columna a tipo numérico después de haber reemplazado las comas por puntos, puedes hacerlo usando pd.to_numeric.        \n",
    "\n",
    "Por ejemplo, si quieres convertir la columna 'nombre_columna' a numérica, descomenta la siguiente línea y reemplaza 'nombre_columna' por el nombre real de \n",
    "\n",
    "la columna: \n",
    "                 \n",
    "                 df['nombre_columna'] = pd.to_numeric(df['nombre_columna'])"
   ]
  },
  {
   "attachments": {},
   "cell_type": "markdown",
   "metadata": {},
   "source": [
    "5º y último.  Finalmente, guardamos el DataFrame limpio en un nuevo archivo CSV utilizando la función to_csv. \n",
    "\n",
    "La opción index=False evita que se escriba el índice del DataFrame en el archivo:\n",
    "\n",
    "              df.to_csv('nombre_archivo_limpio.csv', index=False)"
   ]
  },
  {
   "cell_type": "code",
   "execution_count": 1,
   "metadata": {},
   "outputs": [],
   "source": [
    "import pandas as pd\n",
    "\n",
    "df = pd.read_csv('FicheroRuido2023.csv', sep=';', encoding='ISO-8859-1')\n",
    "\n",
    "for col in df.columns:\n",
    "    if df[col].dtype == 'object':\n",
    "        df[col] = df[col].str.replace(',', '.')\n",
    "\n",
    "# Si necesitas convertir alguna columna a tipo numérico después de haber reemplazado las comas por puntos:\n",
    "# df['nombre_columna'] = pd.to_numeric(df['nombre_columna'])\n",
    "\n",
    "df.to_csv('nombre_archivo_limpio.csv', index=False)\n"
   ]
  },
  {
   "attachments": {},
   "cell_type": "markdown",
   "metadata": {},
   "source": [
    "# A MODO DE RESUMEN \n",
    "\n",
    "En definitiva, este código lee un archivo CSV, reemplaza las comas por puntos en las columnas de texto y guarda el resultado en un nuevo archivo CSV.         \n",
    "\n",
    "El uso de encoding es importante para asegurar que los caracteres del archivo se lean y escriban correctamente, especialmente cuando se trabaja con caracteres que no están incluidos en la codificación predeterminada (utf-8).\n",
    "\n",
    "En este caso, hemos utilizado 'ISO-8859-1' porque es una codificación común para caracteres en español."
   ]
  }
 ],
 "metadata": {
  "kernelspec": {
   "display_name": "Python 3",
   "language": "python",
   "name": "python3"
  },
  "language_info": {
   "codemirror_mode": {
    "name": "ipython",
    "version": 3
   },
   "file_extension": ".py",
   "mimetype": "text/x-python",
   "name": "python",
   "nbconvert_exporter": "python",
   "pygments_lexer": "ipython3",
   "version": "3.10.4"
  },
  "orig_nbformat": 4
 },
 "nbformat": 4,
 "nbformat_minor": 2
}
